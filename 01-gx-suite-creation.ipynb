{
 "cells": [
  {
   "attachments": {},
   "cell_type": "markdown",
   "metadata": {},
   "source": [
    "# Importing stuff"
   ]
  },
  {
   "cell_type": "code",
   "execution_count": null,
   "metadata": {},
   "outputs": [],
   "source": [
    "import great_expectations as gx"
   ]
  },
  {
   "cell_type": "code",
   "execution_count": null,
   "metadata": {},
   "outputs": [],
   "source": [
    "context = gx.get_context()\n",
    "context = context.convert_to_file_context()\n"
   ]
  },
  {
   "attachments": {},
   "cell_type": "markdown",
   "metadata": {},
   "source": [
    "# Create DataSource and Assets"
   ]
  },
  {
   "cell_type": "code",
   "execution_count": null,
   "metadata": {},
   "outputs": [],
   "source": [
    "%env PG_HOST=localhost\n",
    "%env PG_PORT=5432\n",
    "%env PG_USER=postgres\n",
    "%env PG_PASSWORD=postgres\n",
    "%env PG_DATABASE=postgres"
   ]
  },
  {
   "cell_type": "code",
   "execution_count": null,
   "metadata": {},
   "outputs": [],
   "source": [
    "pg_datasource = context.sources.add_or_update_sql(name=\"postgres\", connection_string=\"postgresql://${PG_USER}:${PG_PASSWORD}@${PG_HOST}:${PG_PORT}\")\n"
   ]
  },
  {
   "cell_type": "code",
   "execution_count": null,
   "metadata": {},
   "outputs": [],
   "source": [
    "table_asset = pg_datasource.add_table_asset(name=\"movies\", table_name=\"movies_metadata\", schema_name=\"public\")\n",
    "table_asset.add_splitter_year_and_month(column_name=\"release_date\")"
   ]
  },
  {
   "attachments": {},
   "cell_type": "markdown",
   "metadata": {},
   "source": [
    "# Batch Requests"
   ]
  },
  {
   "cell_type": "code",
   "execution_count": null,
   "metadata": {},
   "outputs": [],
   "source": [
    "\n",
    "batch_request = table_asset.build_batch_request(options={\"year\": 2010})\n",
    "table_asset.get_batch_list_from_batch_request(batch_request)\n"
   ]
  },
  {
   "attachments": {},
   "cell_type": "markdown",
   "metadata": {},
   "source": [
    "# Expectations"
   ]
  },
  {
   "cell_type": "code",
   "execution_count": null,
   "metadata": {},
   "outputs": [],
   "source": [
    "\n",
    "\n",
    "context.add_or_update_expectation_suite(expectation_suite_name=\"movies\" )"
   ]
  },
  {
   "cell_type": "code",
   "execution_count": null,
   "metadata": {},
   "outputs": [],
   "source": [
    "validator = context.get_validator(batch_request=batch_request, expectation_suite_name=\"movies\")\n",
    "validator.head()"
   ]
  },
  {
   "attachments": {},
   "cell_type": "markdown",
   "metadata": {},
   "source": [
    "## Expectations Gallery\n",
    "https://greatexpectations.io/expectations/?filterType=undefined&gotoPage=undefined&showFilters=undefined&viewType=undefined"
   ]
  },
  {
   "cell_type": "code",
   "execution_count": null,
   "metadata": {},
   "outputs": [],
   "source": [
    "validator.expect_column_distinct_values_to_equal_set(column=\"status\", value_set=(\"Rumored\", \"Released\"))"
   ]
  },
  {
   "cell_type": "code",
   "execution_count": null,
   "metadata": {},
   "outputs": [],
   "source": [
    "validator.save_expectation_suite()"
   ]
  },
  {
   "attachments": {},
   "cell_type": "markdown",
   "metadata": {},
   "source": [
    "# Onboarding Data Assistant"
   ]
  },
  {
   "cell_type": "code",
   "execution_count": null,
   "metadata": {},
   "outputs": [],
   "source": [
    "exclude_column_names = []\n",
    "\n",
    "data_assistant_result = context.assistants.onboarding.run(\n",
    "    batch_request=batch_request,\n",
    "    exclude_column_names=exclude_column_names,\n",
    ")\n",
    "\n",
    "expectation_suite = data_assistant_result.get_expectation_suite(\n",
    "    expectation_suite_name=\"movies\"\n",
    ")\n",
    "context.add_or_update_expectation_suite(expectation_suite=expectation_suite)"
   ]
  },
  {
   "attachments": {},
   "cell_type": "markdown",
   "metadata": {},
   "source": [
    "# Checkpoints"
   ]
  },
  {
   "cell_type": "code",
   "execution_count": null,
   "metadata": {},
   "outputs": [],
   "source": [
    "batch_request_year_2011 = table_asset.build_batch_request({'year' : 2011})"
   ]
  },
  {
   "cell_type": "code",
   "execution_count": null,
   "metadata": {},
   "outputs": [],
   "source": [
    "checkpoint = context.add_or_update_checkpoint(\n",
    "    name=f\"movies_checkpoint\",\n",
    "    batch_request=batch_request_year_2011,\n",
    "    validations=[\n",
    "        {\n",
    "            \"batch_request\": None,\n",
    "            \"expectation_suite_name\": \"movies\",\n",
    "        }\n",
    "    ],\n",
    ")\n",
    "checkpoint_result = checkpoint.run()\n",
    "\n"
   ]
  },
  {
   "cell_type": "code",
   "execution_count": null,
   "metadata": {},
   "outputs": [],
   "source": [
    "batch_request_year_2012 = table_asset.build_batch_request({'year' : 2012})\n",
    "checkpoint = context.get_checkpoint(\"movies_checkpoint\")\n",
    "checkpoint.run(batch_request=batch_request_year_2012)"
   ]
  }
 ],
 "metadata": {
  "kernelspec": {
   "display_name": "great-expectations-talk-dVbRYWQ_-py3.9",
   "language": "python",
   "name": "python3"
  },
  "language_info": {
   "codemirror_mode": {
    "name": "ipython",
    "version": 3
   },
   "file_extension": ".py",
   "mimetype": "text/x-python",
   "name": "python",
   "nbconvert_exporter": "python",
   "pygments_lexer": "ipython3",
   "version": "3.9.16"
  },
  "orig_nbformat": 4
 },
 "nbformat": 4,
 "nbformat_minor": 2
}
